{
  "nbformat": 4,
  "nbformat_minor": 0,
  "metadata": {
    "colab": {
      "name": "Izam-Introduction.ipynb",
      "provenance": [],
      "collapsed_sections": []
    },
    "kernelspec": {
      "name": "python3",
      "display_name": "Python 3"
    },
    "language_info": {
      "name": "python"
    }
  },
  "cells": [
    {
      "cell_type": "markdown",
      "metadata": {
        "id": "FKxgSBzTmuMo"
      },
      "source": [
        "**Introduction**\n",
        "- ctrl/cmd + enter = run\n",
        "- shift + enter = run + jump to next cell (create new one if none exists)\n",
        "- alt + enter : run + insert a new code cell below it"
      ]
    },
    {
      "cell_type": "code",
      "metadata": {
        "colab": {
          "base_uri": "https://localhost:8080/"
        },
        "id": "WHgVwt7nbEus",
        "outputId": "8254013c-8eae-40d4-aed0-d128227a8d72"
      },
      "source": [
        "a = 15\n",
        "print(a)"
      ],
      "execution_count": null,
      "outputs": [
        {
          "output_type": "stream",
          "name": "stdout",
          "text": [
            "15\n"
          ]
        }
      ]
    },
    {
      "cell_type": "code",
      "metadata": {
        "colab": {
          "base_uri": "https://localhost:8080/"
        },
        "id": "W7-1S6zHbz7_",
        "outputId": "3eb146eb-8626-4356-d34b-4056864ee092"
      },
      "source": [
        "b = 25\n",
        "c = 30\n",
        "print(c)\n",
        "b"
      ],
      "execution_count": null,
      "outputs": [
        {
          "output_type": "stream",
          "name": "stdout",
          "text": [
            "30\n"
          ]
        },
        {
          "output_type": "execute_result",
          "data": {
            "text/plain": [
              "25"
            ]
          },
          "metadata": {},
          "execution_count": 10
        }
      ]
    },
    {
      "cell_type": "code",
      "metadata": {
        "colab": {
          "base_uri": "https://localhost:8080/"
        },
        "id": "ppGDOU6PlykZ",
        "outputId": "d927f169-e588-4db8-b85c-31c150a21e22"
      },
      "source": [
        "print(a)"
      ],
      "execution_count": null,
      "outputs": [
        {
          "output_type": "stream",
          "name": "stdout",
          "text": [
            "15\n"
          ]
        }
      ]
    },
    {
      "cell_type": "markdown",
      "metadata": {
        "id": "JCUBJAsdmkHi"
      },
      "source": [
        "**Shell Commands**\n",
        "\n",
        "Google basisnya Linux\n",
        "\n",
        "Command yang di support Linux\n",
        "\n",
        "!ls = list\n",
        "\n",
        "!pwd = directory sekarang"
      ]
    },
    {
      "cell_type": "code",
      "metadata": {
        "colab": {
          "base_uri": "https://localhost:8080/"
        },
        "id": "MHeA64_Er1BC",
        "outputId": "5a1d102a-d35a-4675-cb3b-8098dfeacacc"
      },
      "source": [
        "!ls"
      ],
      "execution_count": null,
      "outputs": [
        {
          "output_type": "stream",
          "name": "stdout",
          "text": [
            "sample_data\n"
          ]
        }
      ]
    },
    {
      "cell_type": "code",
      "metadata": {
        "colab": {
          "base_uri": "https://localhost:8080/"
        },
        "id": "pRmQVZrfsRvp",
        "outputId": "0976010e-cc18-4234-bd74-72420448edcf"
      },
      "source": [
        "!pwd"
      ],
      "execution_count": null,
      "outputs": [
        {
          "output_type": "stream",
          "name": "stdout",
          "text": [
            "/content\n"
          ]
        }
      ]
    },
    {
      "cell_type": "markdown",
      "metadata": {
        "id": "yDAkxP-3ssdw"
      },
      "source": [
        "**Magics**\n",
        "\n"
      ]
    },
    {
      "cell_type": "code",
      "metadata": {
        "colab": {
          "base_uri": "https://localhost:8080/"
        },
        "id": "sKG7eypVsv5v",
        "outputId": "dffc639a-7034-4512-bb8a-ff2850280aef"
      },
      "source": [
        "import numpy as np\n",
        "\n",
        "%timeit np.linalg.eigvals(np.random.rand(100, 100)) "
      ],
      "execution_count": null,
      "outputs": [
        {
          "output_type": "stream",
          "name": "stdout",
          "text": [
            "100 loops, best of 5: 9.13 ms per loop\n"
          ]
        }
      ]
    },
    {
      "cell_type": "code",
      "metadata": {
        "colab": {
          "base_uri": "https://localhost:8080/",
          "height": 38
        },
        "id": "KES7aERYwkqj",
        "outputId": "4d8f4a03-bcf2-41e0-8f14-e6c097b3bfb2"
      },
      "source": [
        "%%HTML\n",
        "<marquee style='width:30%; color: Red;'>Hello World!</marquee>"
      ],
      "execution_count": null,
      "outputs": [
        {
          "output_type": "display_data",
          "data": {
            "text/html": [
              "<marquee style='width:30%; color: Red;'>Hello World!</marquee>"
            ],
            "text/plain": [
              "<IPython.core.display.HTML object>"
            ]
          },
          "metadata": {}
        }
      ]
    },
    {
      "cell_type": "markdown",
      "metadata": {
        "id": "YLIhpQP5-y8S"
      },
      "source": [
        "**Documentation**\n",
        "\n",
        "Melihat dokumentasi method atau function\n",
        "dengan np. atau np.(method) + ? contoh = np.random?"
      ]
    },
    {
      "cell_type": "code",
      "metadata": {
        "id": "syBZIgrtAT0K"
      },
      "source": [
        ""
      ],
      "execution_count": null,
      "outputs": []
    },
    {
      "cell_type": "code",
      "metadata": {
        "id": "oG1vw8dK-x9P"
      },
      "source": [
        "np.random?"
      ],
      "execution_count": null,
      "outputs": []
    },
    {
      "cell_type": "markdown",
      "metadata": {
        "id": "x-ukEaAkAPxw"
      },
      "source": [
        "**Markdown**\n",
        "#Markdown\n",
        "\n",
        "//titel\n",
        "\n",
        "**Python Programming**\n",
        "\n",
        "[Youtube](https://Youtube.com)\n",
        "\n",
        "1. Apples\n",
        "1. Oranges\n",
        "1. Mangoes\n",
        "1. Grapes\n",
        "\n",
        "* Apples\n",
        "* Oranges\n",
        "* Mangoes\n",
        "* Grapes\n",
        "\n"
      ]
    },
    {
      "cell_type": "markdown",
      "metadata": {
        "id": "mkkse7BGpF0Q"
      },
      "source": [
        "* Apples\n",
        "  1. Apple 1\n",
        "  1. Apple 2\n",
        "  3. Apple 3"
      ]
    },
    {
      "cell_type": "markdown",
      "metadata": {
        "id": "hGBg-1BrprCP"
      },
      "source": [
        "**LaTex Syntax = sintaks persamaan matematika di render google colab menjadi lebih cantik. di render oleh MathJax Rendering**\n",
        "\n",
        "$\\sqrt(9) + 1^3$\n",
        "\n",
        "$\\sqrt(9) + 1$"
      ]
    },
    {
      "cell_type": "markdown",
      "metadata": {
        "id": "_A_6cNNOqH06"
      },
      "source": [
        "# **Table**\n",
        "\n",
        "Nama Makanan | Harga\n",
        "--- | ---\n",
        "Nasi Goreng | 20000\n",
        "Es Teh | 2000"
      ]
    },
    {
      "cell_type": "code",
      "metadata": {
        "id": "3e_xDKIjAVAL"
      },
      "source": [
        ""
      ],
      "execution_count": null,
      "outputs": []
    }
  ]
}